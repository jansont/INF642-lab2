{
 "cells": [
  {
   "cell_type": "markdown",
   "metadata": {},
   "source": [
    "## Part 2 : Model Architecture"
   ]
  },
  {
   "cell_type": "code",
   "execution_count": 1,
   "metadata": {},
   "outputs": [
    {
     "ename": "",
     "evalue": "",
     "output_type": "error",
     "traceback": [
      "\u001b[1;31mThe Kernel crashed while executing code in the the current cell or a previous cell. Please review the code in the cell(s) to identify a possible cause of the failure. Click <a href='https://aka.ms/vscodeJupyterKernelCrash'>here</a> for more info. View Jupyter <a href='command:jupyter.viewOutput'>log</a> for further details."
     ]
    },
    {
     "ename": "",
     "evalue": "",
     "output_type": "error",
     "traceback": [
      "\u001b[1;31mCanceled future for execute_request message before replies were done"
     ]
    }
   ],
   "source": [
    "import os\n",
    "from src.decoder import Decoder\n",
    "from src.encoder import encoder\n",
    "import src.data_utils as utils\n",
    "import tensorflow as tf\n"
   ]
  },
  {
   "cell_type": "code",
   "execution_count": null,
   "metadata": {},
   "outputs": [],
   "source": [
    "d_model=128\n",
    "num_heads=8\n",
    "dff=512\n",
    "num_enc=4\n",
    "num_dec=4\n",
    "dropout = 0.1\n",
    "maximum_position_encoding=10000\n",
    "num_layers = 4"
   ]
  },
  {
   "cell_type": "code",
   "execution_count": null,
   "metadata": {},
   "outputs": [],
   "source": [
    "transformer = tf.keras.Sequential()\n",
    "\n",
    "transformer.add(positional_encoding(position, d_model))\n",
    "\n",
    "transformer.add(tf.keras.layers.Conv1D(filters=64, kernel_size=3, activation='relu', input_shape=100))\n",
    "transformer.add(tf.keras.layers.Conv1D(filters=64, kernel_size=3, activation='relu'))\n",
    "transformer.add(tf.keras.layers.Conv1D(filters=64, kernel_size=3, activation='relu'))\n",
    "\n",
    "\n",
    "# input = (v1, mask=None, training=None)\n",
    "transformer.add(encoder(input_vocab_size, num_heads, d_model, dff, maximum_position_encoding=10000, dropout = 0.0))\n",
    "transformer.add(encoder(input_vocab_size, num_heads, d_model, dff, maximum_position_encoding=10000, dropout = 0.0))\n",
    "transformer.add(encoder(input_vocab_size, num_heads, d_model, dff, maximum_position_encoding=10000, dropout = 0.0))\n",
    "transformer.add(encoder(input_vocab_size, num_heads, d_model, dff, maximum_position_encoding=10000, dropout = 0.0))\n",
    "\n",
    "\n",
    "#input = (v5, mask=None, training=None) \n",
    "outputs = []\n",
    "for _ in range(6):\n",
    "    o1 = tf.keras.Sequential()\n",
    "    o1.add(transformer)\n",
    "    o1.add(Decoder(target_vocab_size,num_layers,d_model,num_heads,dff,maximum_position_encoding, dropout))\n",
    "    o1.add(tf.keras.layers.Dense(units, activation='softmax'))\n",
    "    o1.compile(optimizer=\"adam\",\n",
    "                loss=\"sparse_categorical_crossentropy\",\n",
    "                metrics=[\"accuracy\"])\n",
    "    outputs.append(o1)\n",
    "\n",
    "\n",
    "\n",
    "\n"
   ]
  },
  {
   "cell_type": "code",
   "execution_count": null,
   "metadata": {},
   "outputs": [],
   "source": [
    "\n",
    "\n",
    "model.fit(x_train, y_train, epochs=5)\n",
    "model.evaluate(x_test, y_test)"
   ]
  },
  {
   "attachments": {},
   "cell_type": "markdown",
   "metadata": {},
   "source": [
    "### Load Data"
   ]
  },
  {
   "cell_type": "code",
   "execution_count": 12,
   "metadata": {},
   "outputs": [
    {
     "ename": "NameError",
     "evalue": "name 'utils' is not defined",
     "output_type": "error",
     "traceback": [
      "\u001b[0;31m---------------------------------------------------------------------------\u001b[0m",
      "\u001b[0;31mNameError\u001b[0m                                 Traceback (most recent call last)",
      "Cell \u001b[0;32mIn[12], line 5\u001b[0m\n\u001b[1;32m      3\u001b[0m test_data \u001b[39m=\u001b[39m {}\n\u001b[1;32m      4\u001b[0m \u001b[39mfor\u001b[39;00m filename \u001b[39min\u001b[39;00m os\u001b[39m.\u001b[39mlistdir(\u001b[39m\"\u001b[39m\u001b[39mencoded_dataset\u001b[39m\u001b[39m\"\u001b[39m):\n\u001b[0;32m----> 5\u001b[0m     array \u001b[39m=\u001b[39m utils\u001b[39m.\u001b[39mload_pickle()\n\u001b[1;32m      6\u001b[0m     name \u001b[39m=\u001b[39m filename[:\u001b[39m-\u001b[39m\u001b[39m4\u001b[39m]\n\u001b[1;32m      7\u001b[0m     \u001b[39mif\u001b[39;00m \u001b[39m\"\u001b[39m\u001b[39mtrain\u001b[39m\u001b[39m\"\u001b[39m \u001b[39min\u001b[39;00m name: \n",
      "\u001b[0;31mNameError\u001b[0m: name 'utils' is not defined"
     ]
    }
   ],
   "source": [
    "train_data = {}\n",
    "val_data = {}\n",
    "test_data = {}\n",
    "for filename in os.listdir(\"encoded_dataset\"):\n",
    "    array = utils.load_pickle()\n",
    "    name = filename[:-4]\n",
    "    if \"train\" in name: \n",
    "        train_data[name] = array\n",
    "    elif \"val\" in name:\n",
    "        val_data[name] = array\n",
    "    elif \"test\" in name: \n",
    "        test_data[name] = array\n",
    "    else: \n",
    "        raise ValueError\n",
    "\n",
    "    "
   ]
  },
  {
   "cell_type": "code",
   "execution_count": 10,
   "metadata": {},
   "outputs": [
    {
     "data": {
      "text/plain": [
       "'AU01_train'"
      ]
     },
     "execution_count": 10,
     "metadata": {},
     "output_type": "execute_result"
    }
   ],
   "source": [
    "a = \"AU01_train.pkl\"\n",
    "a[:-4]"
   ]
  },
  {
   "cell_type": "code",
   "execution_count": null,
   "metadata": {},
   "outputs": [],
   "source": []
  }
 ],
 "metadata": {
  "kernelspec": {
   "display_name": "tensorflow",
   "language": "python",
   "name": "python3"
  },
  "language_info": {
   "codemirror_mode": {
    "name": "ipython",
    "version": 3
   },
   "file_extension": ".py",
   "mimetype": "text/x-python",
   "name": "python",
   "nbconvert_exporter": "python",
   "pygments_lexer": "ipython3",
   "version": "3.9.16"
  },
  "orig_nbformat": 4,
  "vscode": {
   "interpreter": {
    "hash": "f0dd04072b3bc198b0c91405314f91fde30d77ed4140ab13fa25ef86f84e8e65"
   }
  }
 },
 "nbformat": 4,
 "nbformat_minor": 2
}
